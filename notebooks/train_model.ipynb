{
 "cells": [
  {
   "cell_type": "code",
   "execution_count": 12,
   "id": "84475689-17a1-43bb-adef-a4d995c69372",
   "metadata": {},
   "outputs": [],
   "source": [
    "import pandas as pd\n",
    "import numpy as np\n",
    "import time\n",
    "import pickle\n",
    "from sklearn.metrics import mean_squared_error, mean_absolute_error, r2_score\n",
    "from sklearn.model_selection import train_test_split, cross_val_score, GridSearchCV, RandomizedSearchCV\n",
    "from sklearn.dummy import DummyRegressor\n",
    "from sklearn.linear_model import LinearRegression\n",
    "from sklearn.ensemble import GradientBoostingRegressor\n",
    "from sklearn.metrics import make_scorer\n",
    "import seaborn as sns\n",
    "import matplotlib.pyplot as plt"
   ]
  },
  {
   "cell_type": "markdown",
   "id": "5d5e211d-2bf3-4106-86a0-b2e9e1d3edac",
   "metadata": {},
   "source": [
    "# Machine Learning"
   ]
  },
  {
   "cell_type": "markdown",
   "id": "25204fa7-9e87-42c6-a07b-4d3705d61e3c",
   "metadata": {},
   "source": [
    "## Carga de los dataset ya preparados"
   ]
  },
  {
   "cell_type": "code",
   "execution_count": 2,
   "id": "94279391-6654-4b4d-9bca-e4558c11217e",
   "metadata": {},
   "outputs": [],
   "source": [
    "X_train_full = pd.read_csv(\"../data/X_train_full.csv\")\n",
    "y_train_full = pd.read_csv(\"../data/y_train_full.csv\").values.ravel()\n",
    "X_test = pd.read_csv(\"../data/X_test.csv\")\n",
    "y_test = pd.read_csv(\"../data/y_test.csv\").values.ravel()\n",
    "X_train = pd.read_csv(\"../data/X_train.csv\")\n",
    "y_train = pd.read_csv(\"../data/y_train.csv\").values.ravel()\n",
    "X_val = pd.read_csv(\"../data/X_val.csv\")\n",
    "y_val = pd.read_csv(\"../data/y_val.csv\").values.ravel()"
   ]
  },
  {
   "cell_type": "markdown",
   "id": "6d01c62e-e90f-4b10-89dc-3e357eee7a8d",
   "metadata": {},
   "source": [
    "## Función para calcular diferentes métricas"
   ]
  },
  {
   "cell_type": "code",
   "execution_count": 3,
   "id": "bf25b0a0-32cc-401d-ae32-d483cb5fea0b",
   "metadata": {},
   "outputs": [],
   "source": [
    "def calculate_train_val(clf, X_train, y_train, X_val, y_val):\n",
    "    clf.fit(X_train, y_train)\n",
    "    y_train_pred = clf.predict(X_train)\n",
    "    print(\"--------------------------------------------\\n\", clf, \"\\n--------------------------------------------\")\n",
    "    print(\"Train RMSLE:\", np.sqrt(mean_squared_error(np.log(y_train), np.log(y_train_pred))))\n",
    "    print(\"Train RMSE:\", np.sqrt(mean_squared_error(y_train, y_train_pred)))\n",
    "    print(\"Train MAE:\", mean_absolute_error(y_train, y_train_pred))\n",
    "    print(\"Train R^2:\", r2_score(y_train, y_train_pred), \"\\n\")\n",
    "    y_val_pred = clf.predict(X_val) \n",
    "    print(\"Validation RMSLE:\", np.sqrt(mean_squared_error(np.log(y_val), np.log(y_val_pred))))\n",
    "    print(\"Validation RMSE:\", np.sqrt(mean_squared_error(y_val, y_val_pred)))\n",
    "    print(\"Validation MAE:\", mean_absolute_error(y_val, y_val_pred))\n",
    "    print(\"Validation R^2:\", r2_score(y_val, y_val_pred))"
   ]
  },
  {
   "cell_type": "markdown",
   "id": "cbfd122f-b26e-45b7-a75c-67d14b8c8c85",
   "metadata": {},
   "source": [
    "## Baseline"
   ]
  },
  {
   "cell_type": "code",
   "execution_count": 4,
   "id": "a4976de1-5f01-4b7b-97db-3f6eac38f54c",
   "metadata": {},
   "outputs": [],
   "source": [
    "clf = DummyRegressor()"
   ]
  },
  {
   "cell_type": "code",
   "execution_count": 5,
   "id": "01be3f1b-4aa0-4d89-bbaa-8bab8d12811a",
   "metadata": {},
   "outputs": [
    {
     "name": "stdout",
     "output_type": "stream",
     "text": [
      "--------------------------------------------\n",
      " DummyRegressor() \n",
      "--------------------------------------------\n",
      "Train RMSLE: 0.4524639971016908\n",
      "Train RMSE: 257.1718838742388\n",
      "Train MAE: 176.44950355497159\n",
      "Train R^2: 0.0 \n",
      "\n",
      "Validation RMSLE: 0.4499698050847289\n",
      "Validation RMSE: 253.29672169429384\n",
      "Validation MAE: 175.9480864613195\n",
      "Validation R^2: -7.871366087397469e-05\n"
     ]
    }
   ],
   "source": [
    "calculate_train_val(clf, X_train, y_train, X_val, y_val)"
   ]
  },
  {
   "cell_type": "markdown",
   "id": "b93b2725-94db-434d-88c1-d4ba148fb2eb",
   "metadata": {},
   "source": [
    "## Probar diferentes modelos"
   ]
  },
  {
   "cell_type": "code",
   "execution_count": 6,
   "id": "2985a7df-d19c-4906-8952-4b1a6d7c7890",
   "metadata": {},
   "outputs": [],
   "source": [
    "from sklearn.ensemble import RandomForestRegressor\n",
    "from sklearn.neighbors import KNeighborsRegressor\n",
    "from sklearn.linear_model import LinearRegression\n",
    "from sklearn.ensemble import GradientBoostingRegressor\n",
    "import lightgbm as lgb\n",
    "from sklearn.ensemble import StackingRegressor\n",
    "from sklearn.ensemble import VotingRegressor\n",
    "from xgboost import XGBRegressor\n",
    "from catboost import CatBoostRegressor\n",
    "from sklearn.ensemble import HistGradientBoostingRegressor"
   ]
  },
  {
   "cell_type": "code",
   "execution_count": 7,
   "id": "aac3643d-50bd-42ce-bbf2-68c30803fc05",
   "metadata": {},
   "outputs": [
    {
     "data": {
      "text/html": [
       "<style type=\"text/css\">\n",
       "#T_93d71_row0_col1, #T_93d71_row0_col2, #T_93d71_row0_col3, #T_93d71_row0_col4, #T_93d71_row7_col5 {\n",
       "  background-color: yellow;\n",
       "}\n",
       "</style>\n",
       "<table id=\"T_93d71\">\n",
       "  <thead>\n",
       "    <tr>\n",
       "      <th class=\"blank level0\" >&nbsp;</th>\n",
       "      <th id=\"T_93d71_level0_col0\" class=\"col_heading level0 col0\" >Model</th>\n",
       "      <th id=\"T_93d71_level0_col1\" class=\"col_heading level0 col1\" >RMSLE</th>\n",
       "      <th id=\"T_93d71_level0_col2\" class=\"col_heading level0 col2\" >RMSE</th>\n",
       "      <th id=\"T_93d71_level0_col3\" class=\"col_heading level0 col3\" >MAE</th>\n",
       "      <th id=\"T_93d71_level0_col4\" class=\"col_heading level0 col4\" >R^2</th>\n",
       "      <th id=\"T_93d71_level0_col5\" class=\"col_heading level0 col5\" >Time</th>\n",
       "    </tr>\n",
       "  </thead>\n",
       "  <tbody>\n",
       "    <tr>\n",
       "      <th id=\"T_93d71_level0_row0\" class=\"row_heading level0 row0\" >0</th>\n",
       "      <td id=\"T_93d71_row0_col0\" class=\"data row0 col0\" >RFR</td>\n",
       "      <td id=\"T_93d71_row0_col1\" class=\"data row0 col1\" >0.046519</td>\n",
       "      <td id=\"T_93d71_row0_col2\" class=\"data row0 col2\" >34.971095</td>\n",
       "      <td id=\"T_93d71_row0_col3\" class=\"data row0 col3\" >15.253103</td>\n",
       "      <td id=\"T_93d71_row0_col4\" class=\"data row0 col4\" >0.980937</td>\n",
       "      <td id=\"T_93d71_row0_col5\" class=\"data row0 col5\" >21.69s</td>\n",
       "    </tr>\n",
       "    <tr>\n",
       "      <th id=\"T_93d71_level0_row1\" class=\"row_heading level0 row1\" >1</th>\n",
       "      <td id=\"T_93d71_row1_col0\" class=\"data row1 col0\" >XGBR</td>\n",
       "      <td id=\"T_93d71_row1_col1\" class=\"data row1 col1\" >0.051910</td>\n",
       "      <td id=\"T_93d71_row1_col2\" class=\"data row1 col2\" >36.229888</td>\n",
       "      <td id=\"T_93d71_row1_col3\" class=\"data row1 col3\" >17.862954</td>\n",
       "      <td id=\"T_93d71_row1_col4\" class=\"data row1 col4\" >0.979540</td>\n",
       "      <td id=\"T_93d71_row1_col5\" class=\"data row1 col5\" >0.34s</td>\n",
       "    </tr>\n",
       "    <tr>\n",
       "      <th id=\"T_93d71_level0_row2\" class=\"row_heading level0 row2\" >2</th>\n",
       "      <td id=\"T_93d71_row2_col0\" class=\"data row2 col0\" >CAT</td>\n",
       "      <td id=\"T_93d71_row2_col1\" class=\"data row2 col1\" >0.054008</td>\n",
       "      <td id=\"T_93d71_row2_col2\" class=\"data row2 col2\" >37.070198</td>\n",
       "      <td id=\"T_93d71_row2_col3\" class=\"data row2 col3\" >18.781402</td>\n",
       "      <td id=\"T_93d71_row2_col4\" class=\"data row2 col4\" >0.978580</td>\n",
       "      <td id=\"T_93d71_row2_col5\" class=\"data row2 col5\" >6.21s</td>\n",
       "    </tr>\n",
       "    <tr>\n",
       "      <th id=\"T_93d71_level0_row3\" class=\"row_heading level0 row3\" >3</th>\n",
       "      <td id=\"T_93d71_row3_col0\" class=\"data row3 col0\" >LGBM</td>\n",
       "      <td id=\"T_93d71_row3_col1\" class=\"data row3 col1\" >0.067114</td>\n",
       "      <td id=\"T_93d71_row3_col2\" class=\"data row3 col2\" >43.937693</td>\n",
       "      <td id=\"T_93d71_row3_col3\" class=\"data row3 col3\" >22.822676</td>\n",
       "      <td id=\"T_93d71_row3_col4\" class=\"data row3 col4\" >0.969908</td>\n",
       "      <td id=\"T_93d71_row3_col5\" class=\"data row3 col5\" >0.27s</td>\n",
       "    </tr>\n",
       "    <tr>\n",
       "      <th id=\"T_93d71_level0_row4\" class=\"row_heading level0 row4\" >4</th>\n",
       "      <td id=\"T_93d71_row4_col0\" class=\"data row4 col0\" >HistGBR</td>\n",
       "      <td id=\"T_93d71_row4_col1\" class=\"data row4 col1\" >0.067146</td>\n",
       "      <td id=\"T_93d71_row4_col2\" class=\"data row4 col2\" >43.848586</td>\n",
       "      <td id=\"T_93d71_row4_col3\" class=\"data row4 col3\" >22.898798</td>\n",
       "      <td id=\"T_93d71_row4_col4\" class=\"data row4 col4\" >0.970030</td>\n",
       "      <td id=\"T_93d71_row4_col5\" class=\"data row4 col5\" >1.19s</td>\n",
       "    </tr>\n",
       "    <tr>\n",
       "      <th id=\"T_93d71_level0_row5\" class=\"row_heading level0 row5\" >5</th>\n",
       "      <td id=\"T_93d71_row5_col0\" class=\"data row5 col0\" >KNN</td>\n",
       "      <td id=\"T_93d71_row5_col1\" class=\"data row5 col1\" >0.123373</td>\n",
       "      <td id=\"T_93d71_row5_col2\" class=\"data row5 col2\" >106.344858</td>\n",
       "      <td id=\"T_93d71_row5_col3\" class=\"data row5 col3\" >44.613456</td>\n",
       "      <td id=\"T_93d71_row5_col4\" class=\"data row5 col4\" >0.823718</td>\n",
       "      <td id=\"T_93d71_row5_col5\" class=\"data row5 col5\" >1.63s</td>\n",
       "    </tr>\n",
       "    <tr>\n",
       "      <th id=\"T_93d71_level0_row6\" class=\"row_heading level0 row6\" >6</th>\n",
       "      <td id=\"T_93d71_row6_col0\" class=\"data row6 col0\" >GBR</td>\n",
       "      <td id=\"T_93d71_row6_col1\" class=\"data row6 col1\" >0.132334</td>\n",
       "      <td id=\"T_93d71_row6_col2\" class=\"data row6 col2\" >78.231881</td>\n",
       "      <td id=\"T_93d71_row6_col3\" class=\"data row6 col3\" >47.193913</td>\n",
       "      <td id=\"T_93d71_row6_col4\" class=\"data row6 col4\" >0.904601</td>\n",
       "      <td id=\"T_93d71_row6_col5\" class=\"data row6 col5\" >7.72s</td>\n",
       "    </tr>\n",
       "    <tr>\n",
       "      <th id=\"T_93d71_level0_row7\" class=\"row_heading level0 row7\" >7</th>\n",
       "      <td id=\"T_93d71_row7_col0\" class=\"data row7 col0\" >LR</td>\n",
       "      <td id=\"T_93d71_row7_col1\" class=\"data row7 col1\" >0.172244</td>\n",
       "      <td id=\"T_93d71_row7_col2\" class=\"data row7 col2\" >104.222067</td>\n",
       "      <td id=\"T_93d71_row7_col3\" class=\"data row7 col3\" >61.228801</td>\n",
       "      <td id=\"T_93d71_row7_col4\" class=\"data row7 col4\" >0.830685</td>\n",
       "      <td id=\"T_93d71_row7_col5\" class=\"data row7 col5\" >0.25s</td>\n",
       "    </tr>\n",
       "  </tbody>\n",
       "</table>\n"
      ],
      "text/plain": [
       "<pandas.io.formats.style.Styler at 0x299c71af950>"
      ]
     },
     "execution_count": 7,
     "metadata": {},
     "output_type": "execute_result"
    }
   ],
   "source": [
    "estimators = [\n",
    "    ('RFR', RandomForestRegressor()),\n",
    "    ('XGBR', XGBRegressor()),\n",
    "    ('CAT', CatBoostRegressor(verbose=0)), \n",
    "    ]\n",
    "models = {\n",
    "    'LR': LinearRegression(),\n",
    "    'RFR': RandomForestRegressor(),\n",
    "    'KNN': KNeighborsRegressor(),\n",
    "    'GBR': GradientBoostingRegressor(),\n",
    "    'LGBM': lgb.LGBMRegressor(verbose=-1),\n",
    "    'XGBR': XGBRegressor(),\n",
    "    'CAT': CatBoostRegressor(verbose=0),\n",
    "    'HistGBR': HistGradientBoostingRegressor(),\n",
    "    #'SR': StackingRegressor(estimators=estimators, final_estimator=RandomForestRegressor()),\n",
    "    #'VR': VotingRegressor(estimators),\n",
    "}\n",
    "\n",
    "results = pd.DataFrame(columns=[\"Model\", \"RMSLE\", \"RMSE\", \"MAE\", \"R^2\", \"Time\"])\n",
    "results_list = []\n",
    "for model_name, model in models.items():\n",
    "    start_time = time.time()\n",
    "    model.fit(X_train, y_train)\n",
    "    y_pred = model.predict(X_val)\n",
    "    rmsle = np.sqrt(mean_squared_error(np.log(y_val), np.log(y_pred)))\n",
    "    rmse = np.sqrt(mean_squared_error(y_val, y_pred))\n",
    "    mae = mean_absolute_error(y_val, y_pred)\n",
    "    r2 = r2_score(y_val, y_pred)\n",
    "    elapsed_time = time.time() - start_time\n",
    "    \n",
    "    results[model_name] = rmse\n",
    "    #print(f'{model_name}: {rmsle}')\n",
    "    results_list.append({\n",
    "        \"Model\": model_name,\n",
    "        \"RMSLE\": rmsle,\n",
    "        \"RMSE\": rmse,\n",
    "        \"MAE\": mae,\n",
    "        \"R^2\": r2,\n",
    "        \"Time\": f\"{elapsed_time:.2f}s\"\n",
    "    })\n",
    "\n",
    "results = pd.DataFrame(results_list)\n",
    "results = results.sort_values(by=\"RMSLE\", ascending=True).reset_index(drop=True)\n",
    "\n",
    "def highlight_min(series):\n",
    "    is_min = series == series.min()\n",
    "    return ['background-color: yellow' if v else '' for v in is_min]\n",
    "\n",
    "def highlight_max(series):\n",
    "    is_max = series == series.max()\n",
    "    return ['background-color: yellow' if v else '' for v in is_max]\n",
    "\n",
    "results = results.style.apply(highlight_min, subset=[\"RMSLE\", \"RMSE\", \"MAE\", \"Time\"]).apply(highlight_max, subset=[\"R^2\"])\n",
    "results"
   ]
  },
  {
   "cell_type": "markdown",
   "id": "6278e279-2caf-4c51-b1cb-1c35af3b03ee",
   "metadata": {},
   "source": [
    "## Optimización modelos"
   ]
  },
  {
   "cell_type": "code",
   "execution_count": 4,
   "id": "cb6effa9-1938-4d01-b65d-61089d98be87",
   "metadata": {},
   "outputs": [
    {
     "name": "stdout",
     "output_type": "stream",
     "text": [
      "Fitting 5 folds for each of 54 candidates, totalling 270 fits\n",
      "Mejores parámetros: {'max_depth': None, 'min_samples_leaf': 1, 'min_samples_split': 5, 'n_estimators': 800, 'random_state': 42}\n"
     ]
    }
   ],
   "source": [
    "param_grid = {\n",
    "    'n_estimators': [100, 800, 900],\n",
    "    'max_depth': [None, 5, 10],\n",
    "    'min_samples_split': [2, 5, 10],\n",
    "    'min_samples_leaf': [1, 2],\n",
    "    'random_state': [42]\n",
    "}\n",
    "\n",
    "def rmsle(y_true, y_pred):\n",
    "    return np.sqrt(np.mean((np.log1p(y_pred) - np.log1p(y_true)) ** 2))\n",
    "\n",
    "rmsle_scorer = make_scorer(rmsle, greater_is_better=False)\n",
    "\n",
    "def rmse(y_true, y_pred):\n",
    "    return np.sqrt(mean_squared_error(y_true, y_pred))\n",
    "\n",
    "rmse_scorer = make_scorer(rmse, greater_is_better=False)\n",
    "\n",
    "grid_search = GridSearchCV(\n",
    "    estimator=RandomForestRegressor(),\n",
    "    param_grid=param_grid,\n",
    "    scoring=rmse_scorer,\n",
    "    cv=5,\n",
    "    n_jobs=-1,\n",
    "    verbose=2\n",
    ")\n",
    "\n",
    "grid_search.fit(X_train, y_train)\n",
    "\n",
    "print(\"Mejores parámetros:\", grid_search.best_params_)"
   ]
  },
  {
   "cell_type": "markdown",
   "id": "6b38199a-a410-4f3c-9f2c-22f68fdf05bb",
   "metadata": {},
   "source": [
    "## Comprobación del modelo"
   ]
  },
  {
   "cell_type": "code",
   "execution_count": 8,
   "id": "6589cbc9-023d-465b-a89a-2157359c7a83",
   "metadata": {},
   "outputs": [],
   "source": [
    "clf = RandomForestRegressor(\n",
    "    n_estimators=185,\n",
    "    max_depth=20,\n",
    "    min_samples_split=9,\n",
    "    min_samples_leaf=1,\n",
    "    max_features=0.8292644974892409,\n",
    "    bootstrap=True,\n",
    "    random_state=42\n",
    ")"
   ]
  },
  {
   "cell_type": "code",
   "execution_count": 9,
   "id": "f7c8954d-2816-4c6b-aab1-5006aa6d3409",
   "metadata": {},
   "outputs": [],
   "source": [
    "clf = RandomForestRegressor(\n",
    "    max_depth=None,\n",
    "    min_samples_leaf=1,\n",
    "    min_samples_split=5,\n",
    "    n_estimators=800,\n",
    "    random_state=42\n",
    ")"
   ]
  },
  {
   "cell_type": "code",
   "execution_count": 10,
   "id": "e408da00-4c18-4995-b65d-4ea8e74ba564",
   "metadata": {},
   "outputs": [
    {
     "name": "stdout",
     "output_type": "stream",
     "text": [
      "--------------------------------------------\n",
      " RandomForestRegressor(min_samples_split=5, n_estimators=800, random_state=42) \n",
      "--------------------------------------------\n",
      "Train RMSLE: 0.02688119795027728\n",
      "Train RMSE: 17.78296296988346\n",
      "Train MAE: 8.856711294867742\n",
      "Train R^2: 0.9952185317555298 \n",
      "\n",
      "Validation RMSLE: 0.046070520608561115\n",
      "Validation RMSE: 34.95918116851322\n",
      "Validation MAE: 15.178007319744172\n",
      "Validation R^2: 0.9809498872996566\n"
     ]
    }
   ],
   "source": [
    "calculate_train_val(clf, X_train, y_train, X_val, y_val)"
   ]
  },
  {
   "cell_type": "code",
   "execution_count": 13,
   "id": "8a353797-68cf-4ec2-953e-e9da48969999",
   "metadata": {},
   "outputs": [
    {
     "data": {
      "image/png": "[encoded data removed]",
      "text/plain": [
       "<Figure size 1000x600 with 1 Axes>"
      ]
     },
     "metadata": {},
     "output_type": "display_data"
    }
   ],
   "source": [
    "importances = clf.feature_importances_\n",
    "features = X_train_full.columns\n",
    "\n",
    "importance_df = pd.DataFrame({'Feature': features, 'Importance': importances})\n",
    "\n",
    "importance_df = importance_df.sort_values(by='Importance', ascending=False).head(10)\n",
    "\n",
    "plt.figure(figsize=(10, 6))\n",
    "sns.barplot(data=importance_df, x='Importance', y='Feature', hue='Importance', palette='viridis', legend=False)\n",
    "plt.title('Importancia de las Características - Random Forest Regressor')\n",
    "plt.xlabel('Importancia')\n",
    "plt.ylabel('Características')\n",
    "plt.show()"
   ]
  },
  {
   "cell_type": "markdown",
   "id": "b0c8b0f9-70a0-4c78-8cf1-2ce6b017be18",
   "metadata": {},
   "source": [
    "## Guardado del modelo"
   ]
  },
  {
   "cell_type": "code",
   "execution_count": 14,
   "id": "62a422d6-7ad3-48be-b391-47bd7f692b98",
   "metadata": {},
   "outputs": [],
   "source": [
    "def save_model(model, X, y, name_model=\"model1\"):\n",
    "    model.fit(X, y)\n",
    "    with open(f'../app/models/{name_model}.pkl', 'wb') as file:\n",
    "        pickle.dump(model, file) "
   ]
  },
  {
   "cell_type": "code",
   "execution_count": 15,
   "id": "4a3abe7e-0893-43b8-820b-9e35211cd90f",
   "metadata": {},
   "outputs": [],
   "source": [
    "clf = XGBRegressor()"
   ]
  },
  {
   "cell_type": "code",
   "execution_count": 16,
   "id": "5f82d51d-2df4-43c2-94e0-860edc9ca129",
   "metadata": {},
   "outputs": [],
   "source": [
    "save_model(clf, X_train_full, y_train_full)"
   ]
  },
  {
   "cell_type": "markdown",
   "id": "b1af2681-716a-4dfb-b6d4-975d4c3710cc",
   "metadata": {},
   "source": [
    "## Comprobación con test"
   ]
  },
  {
   "cell_type": "code",
   "execution_count": 17,
   "id": "76987ef1-3bb5-4740-979f-95b398401a27",
   "metadata": {},
   "outputs": [],
   "source": [
    "def loaded_model(name_model=\"model1\"):\n",
    "    with open(f'../app/models/{name_model}.pkl', 'rb') as file:\n",
    "        model = pickle.load(file)\n",
    "    return model"
   ]
  },
  {
   "cell_type": "code",
   "execution_count": 18,
   "id": "ce519f4d-b4ea-4d9b-be4f-9ba5c594885e",
   "metadata": {},
   "outputs": [
    {
     "name": "stdout",
     "output_type": "stream",
     "text": [
      "Validation RMSLE: 0.0519376330073728\n",
      "Validation RMSE: 36.20938441105948\n",
      "Validation MAE: 17.79966271405413\n",
      "Validation R^2: 0.9797221986117337\n"
     ]
    }
   ],
   "source": [
    "model_trained = loaded_model()\n",
    "y_test_pred = model_trained.predict(X_test) \n",
    "print(\"Validation RMSLE:\", np.sqrt(mean_squared_error(np.log(y_test), np.log(y_test_pred))))\n",
    "print(\"Validation RMSE:\", np.sqrt(mean_squared_error(y_test, y_test_pred)))\n",
    "print(\"Validation MAE:\", mean_absolute_error(y_test, y_test_pred))\n",
    "print(\"Validation R^2:\", r2_score(y_test, y_test_pred))"
   ]
  },
  {
   "cell_type": "code",
   "execution_count": null,
   "id": "8b1ada24-e219-4d8c-b6cd-81b1cfd5b471",
   "metadata": {},
   "outputs": [],
   "source": []
  }
 ],
 "metadata": {
  "kernelspec": {
   "display_name": "Python 3 (ipykernel)",
   "language": "python",
   "name": "python3"
  },
  "language_info": {
   "codemirror_mode": {
    "name": "ipython",
    "version": 3
   },
   "file_extension": ".py",
   "mimetype": "text/x-python",
   "name": "python",
   "nbconvert_exporter": "python",
   "pygments_lexer": "ipython3",
   "version": "3.11.3"
  }
 },
 "nbformat": 4,
 "nbformat_minor": 5
}
