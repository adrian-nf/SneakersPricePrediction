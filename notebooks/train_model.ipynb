{
 "cells": [
  {
   "cell_type": "code",
   "execution_count": 2,
   "id": "84475689-17a1-43bb-adef-a4d995c69372",
   "metadata": {},
   "outputs": [],
   "source": [
    "import pandas as pd\n",
    "import numpy as np\n",
    "from sklearn.metrics import mean_squared_error, mean_absolute_error, r2_score\n",
    "from sklearn.model_selection import train_test_split, cross_val_score, GridSearchCV, RandomizedSearchCV"
   ]
  },
  {
   "cell_type": "markdown",
   "id": "5d5e211d-2bf3-4106-86a0-b2e9e1d3edac",
   "metadata": {},
   "source": [
    "# Machine Learning"
   ]
  },
  {
   "cell_type": "markdown",
   "id": "25204fa7-9e87-42c6-a07b-4d3705d61e3c",
   "metadata": {},
   "source": [
    "## Carga de los dataset ya preparados"
   ]
  },
  {
   "cell_type": "code",
   "execution_count": null,
   "id": "4bb5687b-c29a-47f1-b5c4-e1e5b0e403b9",
   "metadata": {},
   "outputs": [],
   "source": [
    "X_train = pd.read_excel(\"../data/X_train.xlsx\")\n",
    "y_train = pd.read_excel(\"../data/y_train.xlsx\")\n",
    "X_val = pd.read_excel(\"../data/X_val.xlsx\")\n",
    "y_val = pd.read_excel(\"../data/y_val.xlsx\")"
   ]
  },
  {
   "cell_type": "code",
   "execution_count": 4,
   "id": "94279391-6654-4b4d-9bca-e4558c11217e",
   "metadata": {},
   "outputs": [],
   "source": [
    "X_train = pd.read_csv(\"../data/X_train.csv\")\n",
    "y_train = pd.read_csv(\"../data/y_train.csv\")\n",
    "X_val = pd.read_csv(\"../data/X_val.csv\")\n",
    "y_val = pd.read_csv(\"../data/y_val.csv\")\n",
    "X_test = pd.read_csv(\"../data/X_test.csv\")\n",
    "y_test = pd.read_csv(\"../data/y_test.csv\")"
   ]
  },
  {
   "cell_type": "markdown",
   "id": "cbfd122f-b26e-45b7-a75c-67d14b8c8c85",
   "metadata": {},
   "source": [
    "## Baselines"
   ]
  },
  {
   "cell_type": "code",
   "execution_count": null,
   "id": "bf25b0a0-32cc-401d-ae32-d483cb5fea0b",
   "metadata": {},
   "outputs": [],
   "source": []
  },
  {
   "cell_type": "markdown",
   "id": "b93b2725-94db-434d-88c1-d4ba148fb2eb",
   "metadata": {},
   "source": [
    "## Probar diferentes modelos"
   ]
  },
  {
   "cell_type": "code",
   "execution_count": null,
   "id": "6614bf69-64bb-4ef6-a8fa-fff5337482fa",
   "metadata": {},
   "outputs": [],
   "source": []
  },
  {
   "cell_type": "markdown",
   "id": "6278e279-2caf-4c51-b1cb-1c35af3b03ee",
   "metadata": {},
   "source": [
    "## Optimización modelos"
   ]
  },
  {
   "cell_type": "code",
   "execution_count": null,
   "id": "cb6effa9-1938-4d01-b65d-61089d98be87",
   "metadata": {},
   "outputs": [],
   "source": []
  },
  {
   "cell_type": "markdown",
   "id": "6b38199a-a410-4f3c-9f2c-22f68fdf05bb",
   "metadata": {},
   "source": [
    "## Comprobación del modelo"
   ]
  },
  {
   "cell_type": "code",
   "execution_count": 3,
   "id": "f5502095-ef30-4441-bd27-0b021b633a87",
   "metadata": {},
   "outputs": [],
   "source": [
    "def calculate_train_val(clf, X_train, y_train, X_val, y_val):\n",
    "    clf.fit(X_train, y_train)\n",
    "    y_train_pred = clf.predict(X_train)\n",
    "    print(\"--------------------------------------------\\n\", clf, \"\\n--------------------------------------------\")\n",
    "    print(\"Train RMSLE:\", np.sqrt(mean_squared_error(np.log(y_train), np.log(y_train_pred))))\n",
    "    print(\"Train RMSE:\", np.sqrt(mean_squared_error(y_train, y_train_pred)))\n",
    "    print(\"Train MAE:\", mean_absolute_error(y_train, y_train_pred))\n",
    "    print(\"Train R^2:\", r2_score(y_train, y_train_pred), \"\\n\")\n",
    "    y_val_pred = clf.predict(X_val) \n",
    "    print(\"Validation RMSLE:\", np.sqrt(mean_squared_error(np.log(y_val), np.log(y_val_pred))))\n",
    "    print(\"Validation RMSE:\", np.sqrt(mean_squared_error(y_val, y_val_pred)))\n",
    "    print(\"Validation MAE:\", mean_absolute_error(y_val, y_val_pred))\n",
    "    print(\"Validation R^2:\", r2_score(y_val, y_val_pred))"
   ]
  },
  {
   "cell_type": "code",
   "execution_count": null,
   "id": "6589cbc9-023d-465b-a89a-2157359c7a83",
   "metadata": {},
   "outputs": [],
   "source": []
  }
 ],
 "metadata": {
  "kernelspec": {
   "display_name": "Python 3 (ipykernel)",
   "language": "python",
   "name": "python3"
  },
  "language_info": {
   "codemirror_mode": {
    "name": "ipython",
    "version": 3
   },
   "file_extension": ".py",
   "mimetype": "text/x-python",
   "name": "python",
   "nbconvert_exporter": "python",
   "pygments_lexer": "ipython3",
   "version": "3.11.3"
  }
 },
 "nbformat": 4,
 "nbformat_minor": 5
}
