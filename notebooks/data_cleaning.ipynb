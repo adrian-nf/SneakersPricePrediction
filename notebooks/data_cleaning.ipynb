{
 "cells": [
  {
   "cell_type": "code",
   "execution_count": 1,
   "id": "fff7c209-12e1-40f1-a4f8-0b82b602c455",
   "metadata": {},
   "outputs": [],
   "source": [
    "import pandas as pd\n",
    "import numpy as np\n",
    "import sweetviz as sv\n",
    "import pickle\n",
    "from sklearn.preprocessing import StandardScaler\n",
    "from sklearn.model_selection import train_test_split"
   ]
  },
  {
   "cell_type": "markdown",
   "id": "eb4c0fcc-df83-4537-9514-41c8ed45b3c5",
   "metadata": {},
   "source": [
    "# Preparación de los datos"
   ]
  },
  {
   "cell_type": "markdown",
   "id": "fec2382e-6e7b-47f2-9c76-a9c26fd848d3",
   "metadata": {},
   "source": [
    "## Se carga el dataset"
   ]
  },
  {
   "cell_type": "code",
   "execution_count": 2,
   "id": "9fbf41aa-a4cb-415b-8cf8-bd1bf2b7644c",
   "metadata": {},
   "outputs": [],
   "source": [
    "original = pd.read_csv(\"../data/original.csv\")"
   ]
  },
  {
   "cell_type": "code",
   "execution_count": 3,
   "id": "307b590c-75bf-4633-b37c-0552267a3b4a",
   "metadata": {},
   "outputs": [],
   "source": [
    "full_dataset = original.copy()"
   ]
  },
  {
   "cell_type": "markdown",
   "id": "3e4757ae-021d-44c5-8ae6-24decd5a75b2",
   "metadata": {},
   "source": [
    "## Comprobación de los datos"
   ]
  },
  {
   "cell_type": "code",
   "execution_count": 4,
   "id": "1bee9945-6938-4a98-8400-645b5f5a3b4f",
   "metadata": {},
   "outputs": [
    {
     "data": {
      "text/plain": [
       "Order Date      0\n",
       "Brand           0\n",
       "Sneaker Name    0\n",
       "Sale Price      0\n",
       "Retail Price    0\n",
       "Release Date    0\n",
       "Shoe Size       0\n",
       "Buyer Region    0\n",
       "dtype: int64"
      ]
     },
     "execution_count": 4,
     "metadata": {},
     "output_type": "execute_result"
    }
   ],
   "source": [
    "full_dataset.isna().sum()"
   ]
  },
  {
   "cell_type": "code",
   "execution_count": 5,
   "id": "f4fb643b-55c7-4a21-a26c-76529241fc3b",
   "metadata": {},
   "outputs": [
    {
     "data": {
      "text/plain": [
       "Order Date       object\n",
       "Brand            object\n",
       "Sneaker Name     object\n",
       "Sale Price       object\n",
       "Retail Price     object\n",
       "Release Date     object\n",
       "Shoe Size       float64\n",
       "Buyer Region     object\n",
       "dtype: object"
      ]
     },
     "execution_count": 5,
     "metadata": {},
     "output_type": "execute_result"
    }
   ],
   "source": [
    "full_dataset.dtypes"
   ]
  },
  {
   "cell_type": "code",
   "execution_count": 6,
   "id": "8242269f-c8b2-4b05-9baf-4af936f96168",
   "metadata": {},
   "outputs": [
    {
     "data": {
      "text/html": [
       "<div>\n",
       "<style scoped>\n",
       "    .dataframe tbody tr th:only-of-type {\n",
       "        vertical-align: middle;\n",
       "    }\n",
       "\n",
       "    .dataframe tbody tr th {\n",
       "        vertical-align: top;\n",
       "    }\n",
       "\n",
       "    .dataframe thead th {\n",
       "        text-align: right;\n",
       "    }\n",
       "</style>\n",
       "<table border=\"1\" class=\"dataframe\">\n",
       "  <thead>\n",
       "    <tr style=\"text-align: right;\">\n",
       "      <th></th>\n",
       "      <th>Order Date</th>\n",
       "      <th>Brand</th>\n",
       "      <th>Sneaker Name</th>\n",
       "      <th>Sale Price</th>\n",
       "      <th>Retail Price</th>\n",
       "      <th>Release Date</th>\n",
       "      <th>Shoe Size</th>\n",
       "      <th>Buyer Region</th>\n",
       "    </tr>\n",
       "  </thead>\n",
       "  <tbody>\n",
       "    <tr>\n",
       "      <th>0</th>\n",
       "      <td>9/1/17</td>\n",
       "      <td>Yeezy</td>\n",
       "      <td>Adidas-Yeezy-Boost-350-Low-V2-Beluga</td>\n",
       "      <td>$1,097</td>\n",
       "      <td>$220</td>\n",
       "      <td>9/24/16</td>\n",
       "      <td>11.0</td>\n",
       "      <td>California</td>\n",
       "    </tr>\n",
       "    <tr>\n",
       "      <th>1</th>\n",
       "      <td>9/1/17</td>\n",
       "      <td>Yeezy</td>\n",
       "      <td>Adidas-Yeezy-Boost-350-V2-Core-Black-Copper</td>\n",
       "      <td>$685</td>\n",
       "      <td>$220</td>\n",
       "      <td>11/23/16</td>\n",
       "      <td>11.0</td>\n",
       "      <td>California</td>\n",
       "    </tr>\n",
       "    <tr>\n",
       "      <th>2</th>\n",
       "      <td>9/1/17</td>\n",
       "      <td>Yeezy</td>\n",
       "      <td>Adidas-Yeezy-Boost-350-V2-Core-Black-Green</td>\n",
       "      <td>$690</td>\n",
       "      <td>$220</td>\n",
       "      <td>11/23/16</td>\n",
       "      <td>11.0</td>\n",
       "      <td>California</td>\n",
       "    </tr>\n",
       "    <tr>\n",
       "      <th>3</th>\n",
       "      <td>9/1/17</td>\n",
       "      <td>Yeezy</td>\n",
       "      <td>Adidas-Yeezy-Boost-350-V2-Core-Black-Red</td>\n",
       "      <td>$1,075</td>\n",
       "      <td>$220</td>\n",
       "      <td>11/23/16</td>\n",
       "      <td>11.5</td>\n",
       "      <td>Kentucky</td>\n",
       "    </tr>\n",
       "    <tr>\n",
       "      <th>4</th>\n",
       "      <td>9/1/17</td>\n",
       "      <td>Yeezy</td>\n",
       "      <td>Adidas-Yeezy-Boost-350-V2-Core-Black-Red-2017</td>\n",
       "      <td>$828</td>\n",
       "      <td>$220</td>\n",
       "      <td>2/11/17</td>\n",
       "      <td>11.0</td>\n",
       "      <td>Rhode Island</td>\n",
       "    </tr>\n",
       "  </tbody>\n",
       "</table>\n",
       "</div>"
      ],
      "text/plain": [
       "  Order Date   Brand                                   Sneaker Name  \\\n",
       "0     9/1/17   Yeezy           Adidas-Yeezy-Boost-350-Low-V2-Beluga   \n",
       "1     9/1/17   Yeezy    Adidas-Yeezy-Boost-350-V2-Core-Black-Copper   \n",
       "2     9/1/17   Yeezy     Adidas-Yeezy-Boost-350-V2-Core-Black-Green   \n",
       "3     9/1/17   Yeezy       Adidas-Yeezy-Boost-350-V2-Core-Black-Red   \n",
       "4     9/1/17   Yeezy  Adidas-Yeezy-Boost-350-V2-Core-Black-Red-2017   \n",
       "\n",
       "  Sale Price Retail Price Release Date  Shoe Size  Buyer Region  \n",
       "0     $1,097         $220      9/24/16       11.0    California  \n",
       "1       $685         $220     11/23/16       11.0    California  \n",
       "2       $690         $220     11/23/16       11.0    California  \n",
       "3     $1,075         $220     11/23/16       11.5      Kentucky  \n",
       "4       $828         $220      2/11/17       11.0  Rhode Island  "
      ]
     },
     "execution_count": 6,
     "metadata": {},
     "output_type": "execute_result"
    }
   ],
   "source": [
    "full_dataset.head()"
   ]
  },
  {
   "cell_type": "markdown",
   "id": "d4b7ead4-1256-461f-b706-1ff81490e364",
   "metadata": {},
   "source": [
    "## Limpieza del dataset"
   ]
  },
  {
   "cell_type": "markdown",
   "id": "a51e1b2a-3635-45ba-a86b-171aa066c02f",
   "metadata": {},
   "source": [
    "### Limpieza de la variable \"Sneaker Name\""
   ]
  },
  {
   "cell_type": "code",
   "execution_count": 7,
   "id": "b3359bbd-8040-4b59-aa04-a5b0e6a5c072",
   "metadata": {},
   "outputs": [],
   "source": [
    "def clean_sneakers(original_data):\n",
    "    products = original_data[\"Sneaker Name\"].unique()\n",
    "    # Normalizar nombres de marcas (capitalizar 'adidas' a 'Adidas')\n",
    "    normalized_products = [product.replace('adidas', 'Adidas') for product in products]\n",
    "    \n",
    "    # Listas predefinidas de términos conocidos\n",
    "    brands = ['Nike', 'Adidas']\n",
    "    sub_brands = ['Yeezy', 'Air Jordan']\n",
    "    sub_brand_to_brand = {\n",
    "        'Yeezy': 'Adidas',\n",
    "        'Air Jordan': 'Nike'\n",
    "    }\n",
    "    collaborations = ['Off-White', 'Off White', 'Virgil Abloh']\n",
    "    product_lines = [\n",
    "        'Boost',\n",
    "        'Air Max',\n",
    "        'Air Presto',\n",
    "        'Air VaporMax',\n",
    "        'Air Force 1',\n",
    "        'Blazer Mid',\n",
    "        'Zoom Fly',\n",
    "        'React Hyperdunk',\n",
    "        'Hyperdunk',\n",
    "        'Mercurial',\n",
    "        'Retro',\n",
    "        'Flyknit'\n",
    "    ]\n",
    "    models = ['350', '90', '97', '1']\n",
    "    versions = ['V2', 'V3', '2pt0']\n",
    "    heights = ['Low', 'Mid', 'High']\n",
    "    years = ['2015', '2016', '2017', '2018']\n",
    "    # Lista de colores extendida y organizada\n",
    "    colors = [\n",
    "        'Beluga', 'Core Black Copper', 'Core Black Green', 'Core Black Red', 'Core Black White',\n",
    "        'Cream White', 'Zebra', 'Moonrock', 'Pirate Black', 'Oxford Tan', 'Turtledove',\n",
    "        'Semi Frozen Yellow', 'Blue Tint', 'Black', 'Desert Ore', 'Elemental Rose Queen',\n",
    "        'All Hallows Eve', 'Grim Reaper', 'Sesame', 'Wolf Grey', 'Menta', 'Black Silver',\n",
    "        'Pink', 'Volt', 'Butter', 'Static', 'Static Reflective', 'Chicago', 'University Blue',\n",
    "        'White', 'Black-White', 'Black-Silver', 'Total-Orange'\n",
    "    ]\n",
    "    \n",
    "    # Función auxiliar para verificar y asignar tokens\n",
    "    def assign_tokens(tokens):\n",
    "        data = {\n",
    "            'Sneaker Name': None,\n",
    "            'Brand': None,\n",
    "            'Sub-brand': None,\n",
    "            'Product Line': None,\n",
    "            'Model': None,\n",
    "            'Version': None,\n",
    "            'Height': None,\n",
    "            'Collaboration': None,\n",
    "            'Color(s)': [],\n",
    "            'Year': None\n",
    "        }\n",
    "        i = 0\n",
    "        while i < len(tokens):\n",
    "            token = tokens[i]\n",
    "    \n",
    "            # Manejo de tokens de múltiples palabras\n",
    "            if i < len(tokens) - 1:\n",
    "                next_token = tokens[i+1]\n",
    "                combined_token = f\"{token} {next_token}\"\n",
    "                combined_token_hyphen = f\"{token}-{next_token}\"  # Para colores como 'Black-White'\n",
    "    \n",
    "                # Verificar combinaciones con guiones (ej. 'Black-White')\n",
    "                if combined_token_hyphen in colors:\n",
    "                    data['Color(s)'].append(combined_token_hyphen)\n",
    "                    i += 2\n",
    "                    continue\n",
    "    \n",
    "                # Verificar combinaciones de dos palabras sin guión\n",
    "                if combined_token in sub_brands:\n",
    "                    data['Sub-brand'] = combined_token\n",
    "                    # Asignar Brand basado en Sub-brand\n",
    "                    data['Brand'] = sub_brand_to_brand.get(combined_token, data['Brand'])\n",
    "                    i += 2\n",
    "                    continue\n",
    "                if combined_token in product_lines:\n",
    "                    data['Product Line'] = combined_token\n",
    "                    i += 2\n",
    "                    continue\n",
    "                if combined_token in collaborations:\n",
    "                    data['Collaboration'] = combined_token\n",
    "                    i += 2\n",
    "                    continue\n",
    "                if combined_token in versions:\n",
    "                    data['Version'] = combined_token\n",
    "                    i += 2\n",
    "                    continue\n",
    "                if combined_token in colors:\n",
    "                    data['Color(s)'].append(combined_token)\n",
    "                    i += 2\n",
    "                    continue\n",
    "                if combined_token in heights:\n",
    "                    data['Height'] = combined_token\n",
    "                    i += 2\n",
    "                    continue\n",
    "    \n",
    "            # Verificaciones de un solo token\n",
    "            if token in brands:\n",
    "                data['Brand'] = token\n",
    "            elif token in sub_brands:\n",
    "                data['Sub-brand'] = token\n",
    "                # Asignar Brand basado en Sub-brand si Brand no está ya asignado\n",
    "                if not data['Brand']:\n",
    "                    data['Brand'] = sub_brand_to_brand.get(token, data['Brand'])\n",
    "            elif token in product_lines:\n",
    "                data['Product Line'] = token\n",
    "            elif token in models:\n",
    "                data['Model'] = token\n",
    "            elif token in versions:\n",
    "                data['Version'] = token\n",
    "            elif token in heights:\n",
    "                data['Height'] = token\n",
    "            elif token in collaborations:\n",
    "                data['Collaboration'] = token\n",
    "            elif token in years:\n",
    "                data['Year'] = token\n",
    "            elif token in colors:\n",
    "                data['Color(s)'].append(token)\n",
    "            else:\n",
    "                # Asumir que tokens no reconocidos son parte del color\n",
    "                data['Color(s)'].append(token)\n",
    "            i += 1\n",
    "    \n",
    "        # Asignar Brand basado en Sub-brand si Brand no está ya asignado\n",
    "        if not data['Brand'] and data['Sub-brand']:\n",
    "            data['Brand'] = sub_brand_to_brand.get(data['Sub-brand'], None)\n",
    "    \n",
    "        return data\n",
    "    \n",
    "    # Analizar cada producto\n",
    "    parsed_data = []\n",
    "    for product in normalized_products:\n",
    "        tokens = product.split('-')\n",
    "        parsed = assign_tokens(tokens)\n",
    "        parsed['Sneaker Name'] = product\n",
    "        parsed_data.append(parsed)\n",
    "    \n",
    "    # Crear DataFrame\n",
    "    df = pd.DataFrame(parsed_data)\n",
    "    \n",
    "    # Reorganizar columnas para mejor legibilidad\n",
    "    df = df[['Sneaker Name', 'Brand', 'Sub-brand', 'Product Line', 'Model', 'Version', 'Height', 'Collaboration', 'Color(s)', 'Year']]\n",
    "\n",
    "    if 'Brand' in original_data.columns:\n",
    "        original_data.drop(columns=['Brand'], inplace=True)\n",
    "    \n",
    "    # Unir el dataframe original por \"Sneaker Name\"\n",
    "    merged_data = pd.merge(original_data, df, on=\"Sneaker Name\", how=\"left\")\n",
    "\n",
    "    return merged_data"
   ]
  },
  {
   "cell_type": "markdown",
   "id": "176b7e42-895f-418d-a167-38d68ddee718",
   "metadata": {},
   "source": [
    "### Preparación del dataset"
   ]
  },
  {
   "cell_type": "code",
   "execution_count": 8,
   "id": "caf298d9-0cfd-4d12-88f9-ec5a0809b0e7",
   "metadata": {},
   "outputs": [],
   "source": [
    "def prepare_dataset(data):\n",
    "    data['Sale Price'] = data['Sale Price'].astype(str).str.replace('$', '', regex=False).str.replace(',', '', regex=False).astype(float)\n",
    "    data['Retail Price'] = data['Retail Price'].astype(str).str.replace('$', '', regex=False).str.replace(',', '', regex=False).astype(float)\n",
    "    data['Order Date'] = pd.to_datetime(data['Order Date'], format='%m/%d/%y')\n",
    "    data['Release Date'] = pd.to_datetime(data['Release Date'], format='%m/%d/%y')\n",
    "    return data"
   ]
  },
  {
   "cell_type": "markdown",
   "id": "6fd3598c-e1b4-4bb1-885e-229a2ecfd7d2",
   "metadata": {},
   "source": [
    "### Analisis de los datos usando Sweetviz"
   ]
  },
  {
   "cell_type": "code",
   "execution_count": 9,
   "id": "e4c65977-af9f-4897-8126-5c9172f1805e",
   "metadata": {},
   "outputs": [],
   "source": [
    "full_dataset_sv = clean_sneakers(prepare_dataset(full_dataset.copy()))\n",
    "full_dataset_sv['Color(s)'] = full_dataset_sv['Color(s)'].apply(lambda x: x if isinstance(x, list) else [])\n",
    "full_dataset_sv['Color(s)'] = full_dataset_sv['Color(s)'].apply(lambda x: ', '.join(map(str, x)))"
   ]
  },
  {
   "cell_type": "code",
   "execution_count": 10,
   "id": "ecc022f7-dfdc-4292-8b00-ba763231e7c8",
   "metadata": {},
   "outputs": [
    {
     "data": {
      "application/vnd.jupyter.widget-view+json": {
       "model_id": "bfe807cb704142ebb7d41d468670ed4d",
       "version_major": 2,
       "version_minor": 0
      },
      "text/plain": [
       "                                             |                                             | [  0%]   00:00 ->…"
      ]
     },
     "metadata": {},
     "output_type": "display_data"
    },
    {
     "name": "stdout",
     "output_type": "stream",
     "text": [
      "Report reports/report_general.html was generated! NOTEBOOK/COLAB USERS: the web browser MAY not pop up, regardless, the report IS saved in your notebook/colab files.\n"
     ]
    }
   ],
   "source": [
    "my_report = sv.analyze(full_dataset_sv, target_feat=\"Sale Price\")\n",
    "my_report.show_html(\"reports/report_general.html\")"
   ]
  },
  {
   "cell_type": "markdown",
   "id": "0ee828a5-67e6-400e-bb7e-22c6a8c4d3d0",
   "metadata": {},
   "source": [
    "#### Se guarda para usarlo para hacer gráficos"
   ]
  },
  {
   "cell_type": "code",
   "execution_count": 11,
   "id": "122d7b22-5118-4eb7-b3f6-06c1a7b1c257",
   "metadata": {},
   "outputs": [],
   "source": [
    "df = full_dataset_sv.copy()"
   ]
  },
  {
   "cell_type": "code",
   "execution_count": 12,
   "id": "661375e8-84cd-4ded-9e94-f9d41431aa88",
   "metadata": {},
   "outputs": [],
   "source": [
    "df.to_excel('../data/data_graphics.xlsx', index=False)"
   ]
  },
  {
   "cell_type": "markdown",
   "id": "4acbf1f9-f205-4343-b6ad-23b53b569da7",
   "metadata": {},
   "source": [
    "### Limpieza del dataset complejo"
   ]
  },
  {
   "cell_type": "code",
   "execution_count": 13,
   "id": "66a54931-cebd-4b93-8b53-4d478790e236",
   "metadata": {},
   "outputs": [],
   "source": [
    "def clean_dataset(data):\n",
    "    data_scaler = data.copy()\n",
    "    categorical_cols = ['Brand', 'Sub-brand', 'Product Line', 'Model', 'Version', 'Height', 'Collaboration']\n",
    "    numerical_cols = ['Retail Price', 'Shoe Size']\n",
    "\n",
    "    \n",
    "    # Eliminar columnas\n",
    "    data = data.drop(\"Buyer Region\", axis=1)\n",
    "    data = data.drop(\"Sneaker Name\", axis=1)\n",
    "    data = data.drop(\"Year\", axis=1)\n",
    "    \n",
    "    # Fechas\n",
    "    data['Order Year'] = data['Order Date'].dt.year\n",
    "    data['Order Month'] = data['Order Date'].dt.month\n",
    "    data['Order Day'] = data['Order Date'].dt.day\n",
    "    data['Order Day of Week'] = data['Order Date'].dt.dayofweek\n",
    "    \n",
    "    data['Release Year'] = data['Release Date'].dt.year\n",
    "    data['Release Month'] = data['Release Date'].dt.month\n",
    "    data['Release Day'] = data['Release Date'].dt.day\n",
    "    data['Release Day of Week'] = data['Release Date'].dt.dayofweek\n",
    "    \n",
    "    data['Order Date'] = data['Order Date'].astype(np.int64) // 10**9\n",
    "    data['Release Date'] = data['Release Date'].astype(np.int64) // 10**9\n",
    "    \n",
    "    # Variables Categóricas\n",
    "    data = pd.get_dummies(data, columns=categorical_cols)\n",
    "\n",
    "    # Colores\n",
    "    unique_colors = set()\n",
    "    for sublist in data['Color(s)']:\n",
    "        if isinstance(sublist, list):\n",
    "            unique_colors.update(sublist)\n",
    "\n",
    "    for color in unique_colors:\n",
    "        data['Color_'+color] = 0\n",
    "\n",
    "    for index, row in data.iterrows():\n",
    "        colors = row['Color(s)']\n",
    "        if isinstance(colors, list):\n",
    "            for color in colors:\n",
    "                data.at[index, 'Color_'+color] = 1\n",
    "    \n",
    "    data.drop(columns='Color(s)', inplace=True)\n",
    "    \n",
    "    # Variables Numéricas\n",
    "    scaler = StandardScaler()\n",
    "    scaler.fit(data_scaler[numerical_cols])\n",
    "    data[numerical_cols] = scaler.transform(data[numerical_cols])\n",
    "\n",
    "    # Guardar scaler\n",
    "    with open('../data/scaler.pkl', 'wb') as file:\n",
    "        pickle.dump(scaler, file)\n",
    "    return data"
   ]
  },
  {
   "cell_type": "code",
   "execution_count": 14,
   "id": "2c82735e-f091-4473-a547-173addf5f303",
   "metadata": {},
   "outputs": [],
   "source": [
    "full_dataset0 = clean_sneakers(prepare_dataset(full_dataset.copy()))\n",
    "full_dataset1 = clean_dataset(full_dataset0.copy())\n",
    "X = full_dataset1.loc[:, full_dataset1.columns != \"Sale Price\"]\n",
    "y = full_dataset1.loc[:, \"Sale Price\"]\n",
    "X_train_full, X_test, y_train_full, y_test = train_test_split(X, y, test_size=0.2, random_state=42)\n",
    "X_train, X_val, y_train, y_val = train_test_split(X_train_full, y_train_full, test_size=0.2, random_state=42)"
   ]
  },
  {
   "cell_type": "markdown",
   "id": "83bfbe3a-7471-435c-a435-ebd126414efe",
   "metadata": {},
   "source": [
    "## Comprobar la distribución de los datasets"
   ]
  },
  {
   "cell_type": "code",
   "execution_count": 15,
   "id": "a9e1fa71-baa2-4bf8-a4f6-80cc6bb74d7b",
   "metadata": {},
   "outputs": [
    {
     "data": {
      "application/vnd.jupyter.widget-view+json": {
       "model_id": "c1136a5098094500acd43c3d676479a4",
       "version_major": 2,
       "version_minor": 0
      },
      "text/plain": [
       "                                             |                                             | [  0%]   00:00 ->…"
      ]
     },
     "metadata": {},
     "output_type": "display_data"
    },
    {
     "name": "stdout",
     "output_type": "stream",
     "text": [
      "Report reports/report_train_test.html was generated! NOTEBOOK/COLAB USERS: the web browser MAY not pop up, regardless, the report IS saved in your notebook/colab files.\n"
     ]
    }
   ],
   "source": [
    "train_sv = pd.concat([X_train_full, y_train_full], axis=1)\n",
    "test_sv = pd.concat([X_test, y_test], axis=1)\n",
    "train_sv = train_sv.select_dtypes(include=['int64', 'float64'])\n",
    "test_sv = test_sv.select_dtypes(include=['int64', 'float64'])\n",
    "\n",
    "my_report = sv.compare([train_sv, \"Train\"], [test_sv, \"Test\"], target_feat=\"Sale Price\")\n",
    "my_report.show_html(\"reports/report_train_test.html\")"
   ]
  },
  {
   "cell_type": "code",
   "execution_count": 16,
   "id": "7d6d1776-381a-4c1e-81be-bfabdc3ac75e",
   "metadata": {},
   "outputs": [
    {
     "data": {
      "application/vnd.jupyter.widget-view+json": {
       "model_id": "020f72e44fd44e7f9d1ffa6c87f75c16",
       "version_major": 2,
       "version_minor": 0
      },
      "text/plain": [
       "                                             |                                             | [  0%]   00:00 ->…"
      ]
     },
     "metadata": {},
     "output_type": "display_data"
    },
    {
     "name": "stdout",
     "output_type": "stream",
     "text": [
      "Report reports/report_train_val.html was generated! NOTEBOOK/COLAB USERS: the web browser MAY not pop up, regardless, the report IS saved in your notebook/colab files.\n"
     ]
    }
   ],
   "source": [
    "train_sv = pd.concat([X_train, y_train], axis=1)\n",
    "val_sv = pd.concat([X_val, y_val], axis=1)\n",
    "train_sv = train_sv.select_dtypes(include=['int64', 'float64'])\n",
    "val_sv = val_sv.select_dtypes(include=['int64', 'float64'])\n",
    "\n",
    "my_report = sv.compare([train_sv, \"Train\"], [val_sv, \"Val\"], target_feat=\"Sale Price\")\n",
    "my_report.show_html(\"reports/report_train_val.html\")"
   ]
  },
  {
   "cell_type": "markdown",
   "id": "b2283a90-aef3-417e-b285-9109bb8a1792",
   "metadata": {},
   "source": [
    "## Guardar Datasets"
   ]
  },
  {
   "cell_type": "code",
   "execution_count": 17,
   "id": "a5331e13-cf2f-4338-9041-136939b16a79",
   "metadata": {},
   "outputs": [],
   "source": [
    "X_train_full.to_csv('../data/X_train_full.csv', index=False)\n",
    "y_train_full.to_csv('../data/y_train_full.csv', index=False)\n",
    "X_test.to_csv('../data/X_test.csv', index=False)\n",
    "y_test.to_csv('../data/y_test.csv', index=False)\n",
    "X_train.to_csv('../data/X_train.csv', index=False)\n",
    "y_train.to_csv('../data/y_train.csv', index=False)\n",
    "X_val.to_csv('../data/X_val.csv', index=False)\n",
    "y_val.to_csv('../data/y_val.csv', index=False)"
   ]
  },
  {
   "cell_type": "code",
   "execution_count": null,
   "id": "5a05a9f9-e81a-480e-baef-b3134bd924a9",
   "metadata": {},
   "outputs": [],
   "source": []
  }
 ],
 "metadata": {
  "kernelspec": {
   "display_name": "Python 3 (ipykernel)",
   "language": "python",
   "name": "python3"
  },
  "language_info": {
   "codemirror_mode": {
    "name": "ipython",
    "version": 3
   },
   "file_extension": ".py",
   "mimetype": "text/x-python",
   "name": "python",
   "nbconvert_exporter": "python",
   "pygments_lexer": "ipython3",
   "version": "3.11.3"
  }
 },
 "nbformat": 4,
 "nbformat_minor": 5
}
